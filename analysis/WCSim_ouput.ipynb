{
 "cells": [
  {
   "cell_type": "code",
   "execution_count": 2,
   "metadata": {},
   "outputs": [],
   "source": [
    "import numpy as np\n",
    "import matplotlib.pyplot as plt\n",
    "import uproot as up\n",
    "\n",
    "from mpl_toolkits.mplot3d import Axes3D"
   ]
  },
  {
   "cell_type": "markdown",
   "metadata": {},
   "source": [
    "# HK"
   ]
  },
  {
   "cell_type": "code",
   "execution_count": 3,
   "metadata": {},
   "outputs": [
    {
     "data": {
      "text/plain": [
       "['root_event;1']"
      ]
     },
     "execution_count": 3,
     "metadata": {},
     "output_type": "execute_result"
    }
   ],
   "source": [
    "path_to_data = \"/pbs/home/m/mferey/Physics/Data/HK/\"\n",
    "\n",
    "file = up.open(path_to_data + \"30_mu-_1000MeV_GPS.root\")\n",
    "file.keys()"
   ]
  },
  {
   "cell_type": "code",
   "execution_count": 4,
   "metadata": {},
   "outputs": [
    {
     "data": {
      "text/plain": [
       "['eventType',\n",
       " 'vtx',\n",
       " 'energy',\n",
       " 'particleDir',\n",
       " 'n_hits',\n",
       " 'tubeIds',\n",
       " 'hitx',\n",
       " 'hity',\n",
       " 'hitz',\n",
       " 'charge',\n",
       " 'time']"
      ]
     },
     "execution_count": 4,
     "metadata": {},
     "output_type": "execute_result"
    }
   ],
   "source": [
    "events = file[\"root_event\"]\n",
    "events.keys()"
   ]
  },
  {
   "cell_type": "code",
   "execution_count": 11,
   "metadata": {},
   "outputs": [
    {
     "name": "stdout",
     "output_type": "stream",
     "text": [
      "-1808.0\n"
     ]
    }
   ],
   "source": [
    "%matplotlib qt\n",
    "event_index = 29\n",
    "\n",
    "detector_geom = {'SK': {'height': 3620.0, 'cylinder_radius': 3368.15/2, 'PMT_radius': 25.4}, 'HK': {'height': 6575.1, 'cylinder_radius': 6480/2, 'PMT_radius': 25.4}, 'WCTE': {'height': 338.0, 'cylinder_radius': 369.6/2, 'PMT_radius': 4.0}}\n",
    "\n",
    "\n",
    "# Extract the hitx, hity, and hitz arrays\n",
    "hitx = events['hitx'].array()[event_index]\n",
    "hity = events['hity'].array()[event_index]\n",
    "hitz = events['hitz'].array()[event_index]\n",
    "\n",
    "# Create a 3D plot\n",
    "fig = plt.figure()\n",
    "ax = fig.add_subplot(111, projection='3d')\n",
    "\n",
    "def compute_PMT_marker_size(PMT_radius, fig, ax) : # compute the size of PMT scatter markers in points^2 given the PMT radius in cm for a given figure and axes\n",
    "    \n",
    "    xlim = ax.get_xlim()\n",
    "    ylim = ax.get_ylim()\n",
    "\n",
    "    dpi = fig.get_dpi()\n",
    "    fig_width, fig_height = fig.get_size_inches() * dpi\n",
    "    x_points_per_data_unit = fig_width / (xlim[1] - xlim[0])\n",
    "    y_points_per_data_unit = fig_height / (ylim[1] - ylim[0])\n",
    "\n",
    "    avg_points_per_data_unit = (x_points_per_data_unit + y_points_per_data_unit) / 2\n",
    "\n",
    "    sizes_in_points2 = (PMT_radius * avg_points_per_data_unit) ** 2\n",
    "\n",
    "    return sizes_in_points2\n",
    "\n",
    "# Plot the data\n",
    "\n",
    "#ax.scatter(hitx, hity, hitz, c='r', marker='o', alpha=0.5) # original non rotated\n",
    "ax.scatter(hitx, hity, hitz, c='b', marker='o', alpha=0.5) # rotated\n",
    "\n",
    "print(-detector_geom['SK']['height']/2 + 2)\n",
    "bottom_cap_mask = hitz < -detector_geom['SK']['height']/2 + 10\n",
    "ax.scatter(hitx[bottom_cap_mask], hity[bottom_cap_mask], hitz[bottom_cap_mask], c='r', s = compute_PMT_marker_size(detector_geom['HK']['PMT_radius'], fig, ax), alpha=1) # bottom cap\n",
    "\n",
    "# Set labels\n",
    "ax.set_xlabel(r'$x$ (cm)')\n",
    "ax.set_ylabel(r'$y$ (cm)')\n",
    "ax.set_zlabel(r'$z$ (cm)')\n",
    "\n",
    "ax.set_aspect('equal')\n",
    "\n",
    "plt.show()"
   ]
  },
  {
   "cell_type": "markdown",
   "metadata": {},
   "source": [
    "# WCTE"
   ]
  },
  {
   "cell_type": "code",
   "execution_count": 2,
   "metadata": {},
   "outputs": [
    {
     "data": {
      "text/plain": [
       "['root_event;1']"
      ]
     },
     "execution_count": 2,
     "metadata": {},
     "output_type": "execute_result"
    }
   ],
   "source": [
    "path_to_data = \"/pbs/home/m/mferey/Physics/Data/WCTE/\"\n",
    "\n",
    "file = up.open(path_to_data + \"30_mu-_1000MeV_GPS.root\")\n",
    "file.keys()"
   ]
  },
  {
   "cell_type": "code",
   "execution_count": 3,
   "metadata": {},
   "outputs": [
    {
     "data": {
      "text/plain": [
       "['eventType',\n",
       " 'vtx',\n",
       " 'energy',\n",
       " 'particleDir',\n",
       " 'n_hits',\n",
       " 'tubeIds',\n",
       " 'hitx',\n",
       " 'hity',\n",
       " 'hitz',\n",
       " 'charge',\n",
       " 'time']"
      ]
     },
     "execution_count": 3,
     "metadata": {},
     "output_type": "execute_result"
    }
   ],
   "source": [
    "events = file[\"root_event\"]\n",
    "events.keys()"
   ]
  },
  {
   "cell_type": "code",
   "execution_count": 4,
   "metadata": {},
   "outputs": [
    {
     "data": {
      "text/html": [
       "<pre>[[-148, -121, 8.32, 9.47e-16, -4.16, 4.16, ..., 140, 148, 99.9, -103, 72.4],\n",
       " [65.7, 0, -8.43, -15.7, -4.22, -58, ..., 15.5, -13.4, 151, 116, 50.3, 111],\n",
       " [62.2, 65.7, 53.8, -2.35e-15, 58, -4.22, ..., -116, 50.3, 45.7, -120, 4.16],\n",
       " [-111, -13.4, -58, 8.43, 58, 4.22, ..., -47.7, -44.6, -116, -157, -4.16, 101],\n",
       " [-54.8, -15.5, -54.8, -52.8, -54.8, 7.73, ..., 150, -67.3, 145, -140, 150],\n",
       " [8.43, -4.22, -4.16, -4.16, -2.35e-15, ..., -53.8, -153, 101, 74.3, 73.7],\n",
       " [42.5, 58, 49.7, 58, 66.3, 53.8, ..., -49.7, -2.79e-14, -62.6, -45.6, 7.83],\n",
       " [66.3, 4.22, 62.2, 50.3, -2.35e-15, 53.8, ..., -58.1, 148, 107, -4.22, -112],\n",
       " [102, 7.73, 8.32, 0, 13.4, 4.16, ..., -143, -108, -140, 111, 71.6, -71.4],\n",
       " [45.7, 45.6, 4.16, 62.5, 0, 47.5, 54.8, ..., 58, -50.2, -111, -50.3, 107, 153],\n",
       " ...,\n",
       " [-62.6, -58, -65.7, -62.2, -50.3, -49.7, ..., -13.4, -140, -153, 7.83, 140],\n",
       " [-140, -138, -140, -140, -140, -142, ..., -4.16, -114, 124, 71.4, -62.2],\n",
       " [107, 111, 111, 140, 121, 139, ..., 101, 50.3, 114, -2.79e-14, -152, 62.2],\n",
       " [-58.1, -54.8, -52.8, -62.6, -66.5, ..., 9.3e-15, 58.1, -58, -103, 99.9],\n",
       " [-8.43, -53.8, -62.2, -2.35e-15, -62.2, ..., -116, 112, 62.2, 139, -44.6],\n",
       " [7.83, 4.22, 15.7, 8.43, -2.35e-15, 4.22, ..., -157, 153, 105, -66.3, 60],\n",
       " [-151, 140, 143, 142, 140, 121, ..., 153, 116, 140, -8.32, -52.8, 9.3e-15],\n",
       " [-4.16, -7.73, 6.77e-15, 9.3e-15, -8.32, ..., 157, 105, -151, -13.6, -52.9],\n",
       " [-148, -145, -140, -140, -143, -140, ..., -143, -72.6, -142, 107, -157, 114]]\n",
       "--------------------------------------------------------------------------------\n",
       "type: 30 * var * float32</pre>"
      ],
      "text/plain": [
       "<Array [[-148, -121, 8.32, ..., -103, 72.4], ...] type='30 * var * float32'>"
      ]
     },
     "execution_count": 4,
     "metadata": {},
     "output_type": "execute_result"
    }
   ],
   "source": [
    "events['hitx'].array()"
   ]
  },
  {
   "cell_type": "code",
   "execution_count": 28,
   "metadata": {},
   "outputs": [
    {
     "name": "stdout",
     "output_type": "stream",
     "text": [
      "-167.0\n"
     ]
    }
   ],
   "source": [
    "%matplotlib qt\n",
    "event_index = 29\n",
    "\n",
    "detector_geom = {'SK': {'height': 3620.0, 'cylinder_radius': 3368.15/2, 'PMT_radius': 25.4}, 'HK': {'height': 6575.1, 'cylinder_radius': 6480/2, 'PMT_radius': 25.4}, 'WCTE': {'height': 338.0, 'cylinder_radius': 369.6/2, 'PMT_radius': 4.0}}\n",
    "\n",
    "\n",
    "# Extract the hitx, hity, and hitz arrays\n",
    "hitx = events['hitx'].array()[event_index]\n",
    "hity = events['hity'].array()[event_index]\n",
    "hitz = events['hitz'].array()[event_index]\n",
    "\n",
    "theta = np.pi/2\n",
    "Rx = np.array([[1, 0, 0], [0, np.cos(theta), -np.sin(theta)], [0, np.sin(theta), np.cos(theta)]])\n",
    "hitR = Rx@np.array([hitx, hity, hitz])\n",
    "\n",
    "# Create a 3D plot\n",
    "fig = plt.figure()\n",
    "ax = fig.add_subplot(111, projection='3d')\n",
    "\n",
    "def compute_PMT_marker_size(PMT_radius, fig, ax) : # compute the size of PMT scatter markers in points^2 given the PMT radius in cm for a given figure and axes\n",
    "    \n",
    "    xlim = ax.get_xlim()\n",
    "    ylim = ax.get_ylim()\n",
    "\n",
    "    dpi = fig.get_dpi()\n",
    "    fig_width, fig_height = fig.get_size_inches() * dpi\n",
    "    x_points_per_data_unit = fig_width / (xlim[1] - xlim[0])\n",
    "    y_points_per_data_unit = fig_height / (ylim[1] - ylim[0])\n",
    "\n",
    "    avg_points_per_data_unit = (x_points_per_data_unit + y_points_per_data_unit) / 2\n",
    "\n",
    "    sizes_in_points2 = (PMT_radius * avg_points_per_data_unit) ** 2\n",
    "\n",
    "    return sizes_in_points2\n",
    "\n",
    "# Plot the data\n",
    "\n",
    "#ax.scatter(hitx, hity, hitz, c='r', marker='o', alpha=0.5) # original non rotated\n",
    "ax.scatter(hitR[0], hitR[1], hitR[2], c='b', marker='o', alpha=0.5) # rotated\n",
    "\n",
    "print(-detector_geom['WCTE']['height']/2 + 2)\n",
    "bottom_cap_mask = hitR[2] < -detector_geom['WCTE']['height']/2 + 50\n",
    "ax.scatter(hitR[0][bottom_cap_mask], hitR[1][bottom_cap_mask], hitR[2][bottom_cap_mask], c='r', s = compute_PMT_marker_size(detector_geom['WCTE']['PMT_radius'], fig, ax), alpha=0.5) # bottom cap\n",
    "\n",
    "# Set labels\n",
    "ax.set_xlabel(r'$x$ (cm)')\n",
    "ax.set_ylabel(r'$y$ (cm)')\n",
    "ax.set_zlabel(r'$z$ (cm)')\n",
    "\n",
    "ax.set_aspect('equal')\n",
    "\n",
    "plt.show()"
   ]
  },
  {
   "cell_type": "code",
   "execution_count": 6,
   "metadata": {},
   "outputs": [
    {
     "data": {
      "text/html": [
       "<pre>[-148,\n",
       " -121,\n",
       " 8.32,\n",
       " 9.47e-16,\n",
       " -4.16,\n",
       " 4.16,\n",
       " 0,\n",
       " -4.16,\n",
       " 58.1,\n",
       " -8.32,\n",
       " ...,\n",
       " -13.6,\n",
       " 67.2,\n",
       " -105,\n",
       " -142,\n",
       " 140,\n",
       " 148,\n",
       " 99.9,\n",
       " -103,\n",
       " 72.4]\n",
       "-------------------\n",
       "type: 624 * float32</pre>"
      ],
      "text/plain": [
       "<Array [-148, -121, 8.32, 9.47e-16, ..., 99.9, -103, 72.4] type='624 * float32'>"
      ]
     },
     "execution_count": 6,
     "metadata": {},
     "output_type": "execute_result"
    }
   ],
   "source": [
    "hitx"
   ]
  },
  {
   "cell_type": "markdown",
   "metadata": {},
   "source": []
  }
 ],
 "metadata": {
  "kernelspec": {
   "display_name": "data_analysis",
   "language": "python",
   "name": "python3"
  },
  "language_info": {
   "codemirror_mode": {
    "name": "ipython",
    "version": 3
   },
   "file_extension": ".py",
   "mimetype": "text/x-python",
   "name": "python",
   "nbconvert_exporter": "python",
   "pygments_lexer": "ipython3",
   "version": "3.10.15"
  }
 },
 "nbformat": 4,
 "nbformat_minor": 2
}
