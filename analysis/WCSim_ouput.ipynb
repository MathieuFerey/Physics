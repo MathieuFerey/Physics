{
 "cells": [
  {
   "cell_type": "code",
   "execution_count": 1,
   "metadata": {},
   "outputs": [],
   "source": [
    "import numpy as np\n",
    "import matplotlib.pyplot as plt\n",
    "import uproot as up\n",
    "\n",
    "from mpl_toolkits.mplot3d import Axes3D"
   ]
  },
  {
   "cell_type": "markdown",
   "metadata": {},
   "source": [
    "# HK"
   ]
  },
  {
   "cell_type": "code",
   "execution_count": 3,
   "metadata": {},
   "outputs": [
    {
     "data": {
      "text/plain": [
       "['root_event;1']"
      ]
     },
     "execution_count": 3,
     "metadata": {},
     "output_type": "execute_result"
    }
   ],
   "source": [
    "path_to_data = \"/pbs/home/m/mferey/Physics/Data/HK/\"\n",
    "\n",
    "file = up.open(path_to_data + \"30_mu-_1000MeV_GPS.root\")\n",
    "file.keys()"
   ]
  },
  {
   "cell_type": "code",
   "execution_count": 4,
   "metadata": {},
   "outputs": [
    {
     "data": {
      "text/plain": [
       "['eventType',\n",
       " 'vtx',\n",
       " 'energy',\n",
       " 'particleDir',\n",
       " 'n_hits',\n",
       " 'tubeIds',\n",
       " 'hitx',\n",
       " 'hity',\n",
       " 'hitz',\n",
       " 'charge',\n",
       " 'time']"
      ]
     },
     "execution_count": 4,
     "metadata": {},
     "output_type": "execute_result"
    }
   ],
   "source": [
    "events = file[\"root_event\"]\n",
    "events.keys()"
   ]
  },
  {
   "cell_type": "code",
   "execution_count": 11,
   "metadata": {},
   "outputs": [
    {
     "name": "stdout",
     "output_type": "stream",
     "text": [
      "-1808.0\n"
     ]
    }
   ],
   "source": [
    "%matplotlib qt\n",
    "event_index = 29\n",
    "\n",
    "detector_geom = {'SK': {'height': 3620.0, 'cylinder_radius': 3368.15/2, 'PMT_radius': 25.4}, 'HK': {'height': 6575.1, 'cylinder_radius': 6480/2, 'PMT_radius': 25.4}, 'WCTE': {'height': 338.0, 'cylinder_radius': 369.6/2, 'PMT_radius': 4.0}}\n",
    "\n",
    "\n",
    "# Extract the hitx, hity, and hitz arrays\n",
    "hitx = events['hitx'].array()[event_index]\n",
    "hity = events['hity'].array()[event_index]\n",
    "hitz = events['hitz'].array()[event_index]\n",
    "\n",
    "# Create a 3D plot\n",
    "fig = plt.figure()\n",
    "ax = fig.add_subplot(111, projection='3d')\n",
    "\n",
    "def compute_PMT_marker_size(PMT_radius, fig, ax) : # compute the size of PMT scatter markers in points^2 given the PMT radius in cm for a given figure and axes\n",
    "    \n",
    "    xlim = ax.get_xlim()\n",
    "    ylim = ax.get_ylim()\n",
    "\n",
    "    dpi = fig.get_dpi()\n",
    "    fig_width, fig_height = fig.get_size_inches() * dpi\n",
    "    x_points_per_data_unit = fig_width / (xlim[1] - xlim[0])\n",
    "    y_points_per_data_unit = fig_height / (ylim[1] - ylim[0])\n",
    "\n",
    "    avg_points_per_data_unit = (x_points_per_data_unit + y_points_per_data_unit) / 2\n",
    "\n",
    "    sizes_in_points2 = (PMT_radius * avg_points_per_data_unit) ** 2\n",
    "\n",
    "    return sizes_in_points2\n",
    "\n",
    "# Plot the data\n",
    "\n",
    "#ax.scatter(hitx, hity, hitz, c='r', marker='o', alpha=0.5) # original non rotated\n",
    "ax.scatter(hitx, hity, hitz, c='b', marker='o', alpha=0.5) # rotated\n",
    "\n",
    "print(-detector_geom['SK']['height']/2 + 2)\n",
    "bottom_cap_mask = hitz < -detector_geom['SK']['height']/2 + 10\n",
    "ax.scatter(hitx[bottom_cap_mask], hity[bottom_cap_mask], hitz[bottom_cap_mask], c='r', s = compute_PMT_marker_size(detector_geom['HK']['PMT_radius'], fig, ax), alpha=1) # bottom cap\n",
    "\n",
    "# Set labels\n",
    "ax.set_xlabel(r'$x$ (cm)')\n",
    "ax.set_ylabel(r'$y$ (cm)')\n",
    "ax.set_zlabel(r'$z$ (cm)')\n",
    "\n",
    "ax.set_aspect('equal')\n",
    "\n",
    "plt.show()"
   ]
  },
  {
   "cell_type": "markdown",
   "metadata": {},
   "source": [
    "# WCTE"
   ]
  },
  {
   "cell_type": "code",
   "execution_count": 2,
   "metadata": {},
   "outputs": [
    {
     "data": {
      "text/plain": [
       "['root_event;1']"
      ]
     },
     "execution_count": 2,
     "metadata": {},
     "output_type": "execute_result"
    }
   ],
   "source": [
    "path_to_data = \"/pbs/home/m/mferey/Physics/Data/WCTE/\"\n",
    "\n",
    "file = up.open(path_to_data + \"10_mu-_uni200-1000MeV_GPS.root\")\n",
    "file.keys()"
   ]
  },
  {
   "cell_type": "code",
   "execution_count": 3,
   "metadata": {},
   "outputs": [
    {
     "data": {
      "text/plain": [
       "['eventType',\n",
       " 'vtx',\n",
       " 'energy',\n",
       " 'particleDir',\n",
       " 'n_hits',\n",
       " 'tubeIds',\n",
       " 'hitx',\n",
       " 'hity',\n",
       " 'hitz',\n",
       " 'charge',\n",
       " 'time']"
      ]
     },
     "execution_count": 3,
     "metadata": {},
     "output_type": "execute_result"
    }
   ],
   "source": [
    "events = file[\"root_event\"]\n",
    "events.keys()"
   ]
  },
  {
   "cell_type": "code",
   "execution_count": 4,
   "metadata": {},
   "outputs": [
    {
     "data": {
      "text/html": [
       "<pre>-----------------------\n",
       "type: 0 * var * float32</pre>"
      ],
      "text/plain": [
       "<Array [] type='0 * var * float32'>"
      ]
     },
     "execution_count": 4,
     "metadata": {},
     "output_type": "execute_result"
    }
   ],
   "source": [
    "events['hitx'].array()"
   ]
  },
  {
   "cell_type": "code",
   "execution_count": 5,
   "metadata": {},
   "outputs": [
    {
     "ename": "IndexError",
     "evalue": "cannot slice ListOffsetArray (of length 0) with 29\n\nThis error occurred while attempting to slice\n\n    <Array [] type='0 * var * float32'>\n\nwith\n\n    29",
     "output_type": "error",
     "traceback": [
      "\u001b[0;31m---------------------------------------------------------------------------\u001b[0m",
      "\u001b[0;31mIndexError\u001b[0m                                Traceback (most recent call last)",
      "File \u001b[0;32m~/miniconda3/envs/data_analysis/lib/python3.10/site-packages/awkward/highlevel.py:1066\u001b[0m, in \u001b[0;36mArray.__getitem__\u001b[0;34m(self, where)\u001b[0m\n\u001b[1;32m   1064\u001b[0m \u001b[38;5;28;01mwith\u001b[39;00m ak\u001b[38;5;241m.\u001b[39m_errors\u001b[38;5;241m.\u001b[39mSlicingErrorContext(\u001b[38;5;28mself\u001b[39m, where):\n\u001b[1;32m   1065\u001b[0m     \u001b[38;5;28;01mreturn\u001b[39;00m wrap_layout(\n\u001b[0;32m-> 1066\u001b[0m         prepare_layout(\u001b[38;5;28;43mself\u001b[39;49m\u001b[38;5;241;43m.\u001b[39;49m\u001b[43m_layout\u001b[49m\u001b[43m[\u001b[49m\u001b[43mwhere\u001b[49m\u001b[43m]\u001b[49m),\n\u001b[1;32m   1067\u001b[0m         \u001b[38;5;28mself\u001b[39m\u001b[38;5;241m.\u001b[39m_behavior,\n\u001b[1;32m   1068\u001b[0m         allow_other\u001b[38;5;241m=\u001b[39m\u001b[38;5;28;01mTrue\u001b[39;00m,\n\u001b[1;32m   1069\u001b[0m         attrs\u001b[38;5;241m=\u001b[39m\u001b[38;5;28mself\u001b[39m\u001b[38;5;241m.\u001b[39m_attrs,\n\u001b[1;32m   1070\u001b[0m     )\n",
      "File \u001b[0;32m~/miniconda3/envs/data_analysis/lib/python3.10/site-packages/awkward/contents/content.py:512\u001b[0m, in \u001b[0;36mContent.__getitem__\u001b[0;34m(self, where)\u001b[0m\n\u001b[1;32m    511\u001b[0m \u001b[38;5;28;01mdef\u001b[39;00m \u001b[38;5;21m__getitem__\u001b[39m(\u001b[38;5;28mself\u001b[39m, where):\n\u001b[0;32m--> 512\u001b[0m     \u001b[38;5;28;01mreturn\u001b[39;00m \u001b[38;5;28;43mself\u001b[39;49m\u001b[38;5;241;43m.\u001b[39;49m\u001b[43m_getitem\u001b[49m\u001b[43m(\u001b[49m\u001b[43mwhere\u001b[49m\u001b[43m)\u001b[49m\n",
      "File \u001b[0;32m~/miniconda3/envs/data_analysis/lib/python3.10/site-packages/awkward/contents/content.py:516\u001b[0m, in \u001b[0;36mContent._getitem\u001b[0;34m(self, where)\u001b[0m\n\u001b[1;32m    515\u001b[0m \u001b[38;5;28;01mif\u001b[39;00m is_integer_like(where):\n\u001b[0;32m--> 516\u001b[0m     \u001b[38;5;28;01mreturn\u001b[39;00m \u001b[38;5;28;43mself\u001b[39;49m\u001b[38;5;241;43m.\u001b[39;49m\u001b[43m_getitem_at\u001b[49m\u001b[43m(\u001b[49m\u001b[43mak\u001b[49m\u001b[38;5;241;43m.\u001b[39;49m\u001b[43m_slicing\u001b[49m\u001b[38;5;241;43m.\u001b[39;49m\u001b[43mnormalize_integer_like\u001b[49m\u001b[43m(\u001b[49m\u001b[43mwhere\u001b[49m\u001b[43m)\u001b[49m\u001b[43m)\u001b[49m\n\u001b[1;32m    518\u001b[0m \u001b[38;5;28;01melif\u001b[39;00m \u001b[38;5;28misinstance\u001b[39m(where, \u001b[38;5;28mslice\u001b[39m) \u001b[38;5;129;01mand\u001b[39;00m where\u001b[38;5;241m.\u001b[39mstep \u001b[38;5;129;01mis\u001b[39;00m \u001b[38;5;28;01mNone\u001b[39;00m:\n\u001b[1;32m    519\u001b[0m     \u001b[38;5;66;03m# Ensure that start, stop are non-negative!\u001b[39;00m\n",
      "File \u001b[0;32m~/miniconda3/envs/data_analysis/lib/python3.10/site-packages/awkward/contents/listoffsetarray.py:318\u001b[0m, in \u001b[0;36mListOffsetArray._getitem_at\u001b[0;34m(self, where)\u001b[0m\n\u001b[1;32m    313\u001b[0m \u001b[38;5;28;01mif\u001b[39;00m \u001b[38;5;129;01mnot\u001b[39;00m (\n\u001b[1;32m    314\u001b[0m     is_unknown_scalar(where)\n\u001b[1;32m    315\u001b[0m     \u001b[38;5;129;01mor\u001b[39;00m \u001b[38;5;28mself\u001b[39m\u001b[38;5;241m.\u001b[39mlength \u001b[38;5;129;01mis\u001b[39;00m unknown_length\n\u001b[1;32m    316\u001b[0m     \u001b[38;5;129;01mor\u001b[39;00m (\u001b[38;5;241m0\u001b[39m \u001b[38;5;241m<\u001b[39m\u001b[38;5;241m=\u001b[39m where \u001b[38;5;241m<\u001b[39m \u001b[38;5;28mself\u001b[39m\u001b[38;5;241m.\u001b[39mlength)\n\u001b[1;32m    317\u001b[0m ):\n\u001b[0;32m--> 318\u001b[0m     \u001b[38;5;28;01mraise\u001b[39;00m ak\u001b[38;5;241m.\u001b[39m_errors\u001b[38;5;241m.\u001b[39mindex_error(\u001b[38;5;28mself\u001b[39m, where)\n\u001b[1;32m    319\u001b[0m start, stop \u001b[38;5;241m=\u001b[39m \u001b[38;5;28mself\u001b[39m\u001b[38;5;241m.\u001b[39m_offsets[where], \u001b[38;5;28mself\u001b[39m\u001b[38;5;241m.\u001b[39m_offsets[where \u001b[38;5;241m+\u001b[39m \u001b[38;5;241m1\u001b[39m]\n",
      "\u001b[0;31mIndexError\u001b[0m: cannot slice ListOffsetArray (of length 0) with 29",
      "\nThe above exception was the direct cause of the following exception:\n",
      "\u001b[0;31mIndexError\u001b[0m                                Traceback (most recent call last)",
      "Cell \u001b[0;32mIn[5], line 8\u001b[0m\n\u001b[1;32m      4\u001b[0m detector_geom \u001b[38;5;241m=\u001b[39m {\u001b[38;5;124m'\u001b[39m\u001b[38;5;124mSK\u001b[39m\u001b[38;5;124m'\u001b[39m: {\u001b[38;5;124m'\u001b[39m\u001b[38;5;124mheight\u001b[39m\u001b[38;5;124m'\u001b[39m: \u001b[38;5;241m3620.0\u001b[39m, \u001b[38;5;124m'\u001b[39m\u001b[38;5;124mcylinder_radius\u001b[39m\u001b[38;5;124m'\u001b[39m: \u001b[38;5;241m3368.15\u001b[39m\u001b[38;5;241m/\u001b[39m\u001b[38;5;241m2\u001b[39m, \u001b[38;5;124m'\u001b[39m\u001b[38;5;124mPMT_radius\u001b[39m\u001b[38;5;124m'\u001b[39m: \u001b[38;5;241m25.4\u001b[39m}, \u001b[38;5;124m'\u001b[39m\u001b[38;5;124mHK\u001b[39m\u001b[38;5;124m'\u001b[39m: {\u001b[38;5;124m'\u001b[39m\u001b[38;5;124mheight\u001b[39m\u001b[38;5;124m'\u001b[39m: \u001b[38;5;241m6575.1\u001b[39m, \u001b[38;5;124m'\u001b[39m\u001b[38;5;124mcylinder_radius\u001b[39m\u001b[38;5;124m'\u001b[39m: \u001b[38;5;241m6480\u001b[39m\u001b[38;5;241m/\u001b[39m\u001b[38;5;241m2\u001b[39m, \u001b[38;5;124m'\u001b[39m\u001b[38;5;124mPMT_radius\u001b[39m\u001b[38;5;124m'\u001b[39m: \u001b[38;5;241m25.4\u001b[39m}, \u001b[38;5;124m'\u001b[39m\u001b[38;5;124mWCTE\u001b[39m\u001b[38;5;124m'\u001b[39m: {\u001b[38;5;124m'\u001b[39m\u001b[38;5;124mheight\u001b[39m\u001b[38;5;124m'\u001b[39m: \u001b[38;5;241m338.0\u001b[39m, \u001b[38;5;124m'\u001b[39m\u001b[38;5;124mcylinder_radius\u001b[39m\u001b[38;5;124m'\u001b[39m: \u001b[38;5;241m369.6\u001b[39m\u001b[38;5;241m/\u001b[39m\u001b[38;5;241m2\u001b[39m, \u001b[38;5;124m'\u001b[39m\u001b[38;5;124mPMT_radius\u001b[39m\u001b[38;5;124m'\u001b[39m: \u001b[38;5;241m4.0\u001b[39m}}\n\u001b[1;32m      7\u001b[0m \u001b[38;5;66;03m# Extract the hitx, hity, and hitz arrays\u001b[39;00m\n\u001b[0;32m----> 8\u001b[0m hitx \u001b[38;5;241m=\u001b[39m \u001b[43mevents\u001b[49m\u001b[43m[\u001b[49m\u001b[38;5;124;43m'\u001b[39;49m\u001b[38;5;124;43mhitx\u001b[39;49m\u001b[38;5;124;43m'\u001b[39;49m\u001b[43m]\u001b[49m\u001b[38;5;241;43m.\u001b[39;49m\u001b[43marray\u001b[49m\u001b[43m(\u001b[49m\u001b[43m)\u001b[49m\u001b[43m[\u001b[49m\u001b[43mevent_index\u001b[49m\u001b[43m]\u001b[49m\n\u001b[1;32m      9\u001b[0m hity \u001b[38;5;241m=\u001b[39m events[\u001b[38;5;124m'\u001b[39m\u001b[38;5;124mhity\u001b[39m\u001b[38;5;124m'\u001b[39m]\u001b[38;5;241m.\u001b[39marray()[event_index]\n\u001b[1;32m     10\u001b[0m hitz \u001b[38;5;241m=\u001b[39m events[\u001b[38;5;124m'\u001b[39m\u001b[38;5;124mhitz\u001b[39m\u001b[38;5;124m'\u001b[39m]\u001b[38;5;241m.\u001b[39marray()[event_index]\n",
      "File \u001b[0;32m~/miniconda3/envs/data_analysis/lib/python3.10/site-packages/awkward/highlevel.py:1064\u001b[0m, in \u001b[0;36mArray.__getitem__\u001b[0;34m(self, where)\u001b[0m\n\u001b[1;32m    635\u001b[0m \u001b[38;5;28;01mdef\u001b[39;00m \u001b[38;5;21m__getitem__\u001b[39m(\u001b[38;5;28mself\u001b[39m, where):\n\u001b[1;32m    636\u001b[0m \u001b[38;5;250m    \u001b[39m\u001b[38;5;124;03m\"\"\"\u001b[39;00m\n\u001b[1;32m    637\u001b[0m \u001b[38;5;124;03m    Args:\u001b[39;00m\n\u001b[1;32m    638\u001b[0m \u001b[38;5;124;03m        where (many types supported; see below): Index of positions to\u001b[39;00m\n\u001b[0;32m   (...)\u001b[0m\n\u001b[1;32m   1062\u001b[0m \u001b[38;5;124;03m    have the same dimension as the array being indexed.\u001b[39;00m\n\u001b[1;32m   1063\u001b[0m \u001b[38;5;124;03m    \"\"\"\u001b[39;00m\n\u001b[0;32m-> 1064\u001b[0m     \u001b[38;5;28;01mwith\u001b[39;00m ak\u001b[38;5;241m.\u001b[39m_errors\u001b[38;5;241m.\u001b[39mSlicingErrorContext(\u001b[38;5;28mself\u001b[39m, where):\n\u001b[1;32m   1065\u001b[0m         \u001b[38;5;28;01mreturn\u001b[39;00m wrap_layout(\n\u001b[1;32m   1066\u001b[0m             prepare_layout(\u001b[38;5;28mself\u001b[39m\u001b[38;5;241m.\u001b[39m_layout[where]),\n\u001b[1;32m   1067\u001b[0m             \u001b[38;5;28mself\u001b[39m\u001b[38;5;241m.\u001b[39m_behavior,\n\u001b[1;32m   1068\u001b[0m             allow_other\u001b[38;5;241m=\u001b[39m\u001b[38;5;28;01mTrue\u001b[39;00m,\n\u001b[1;32m   1069\u001b[0m             attrs\u001b[38;5;241m=\u001b[39m\u001b[38;5;28mself\u001b[39m\u001b[38;5;241m.\u001b[39m_attrs,\n\u001b[1;32m   1070\u001b[0m         )\n",
      "File \u001b[0;32m~/miniconda3/envs/data_analysis/lib/python3.10/site-packages/awkward/_errors.py:85\u001b[0m, in \u001b[0;36mErrorContext.__exit__\u001b[0;34m(self, exception_type, exception_value, traceback)\u001b[0m\n\u001b[1;32m     78\u001b[0m \u001b[38;5;28;01mtry\u001b[39;00m:\n\u001b[1;32m     79\u001b[0m     \u001b[38;5;66;03m# Handle caught exception\u001b[39;00m\n\u001b[1;32m     80\u001b[0m     \u001b[38;5;28;01mif\u001b[39;00m (\n\u001b[1;32m     81\u001b[0m         exception_type \u001b[38;5;129;01mis\u001b[39;00m \u001b[38;5;129;01mnot\u001b[39;00m \u001b[38;5;28;01mNone\u001b[39;00m\n\u001b[1;32m     82\u001b[0m         \u001b[38;5;129;01mand\u001b[39;00m \u001b[38;5;28missubclass\u001b[39m(exception_type, \u001b[38;5;167;01mException\u001b[39;00m)\n\u001b[1;32m     83\u001b[0m         \u001b[38;5;129;01mand\u001b[39;00m \u001b[38;5;28mself\u001b[39m\u001b[38;5;241m.\u001b[39mprimary() \u001b[38;5;129;01mis\u001b[39;00m \u001b[38;5;28mself\u001b[39m\n\u001b[1;32m     84\u001b[0m     ):\n\u001b[0;32m---> 85\u001b[0m         \u001b[38;5;28;43mself\u001b[39;49m\u001b[38;5;241;43m.\u001b[39;49m\u001b[43mhandle_exception\u001b[49m\u001b[43m(\u001b[49m\u001b[43mexception_type\u001b[49m\u001b[43m,\u001b[49m\u001b[43m \u001b[49m\u001b[43mexception_value\u001b[49m\u001b[43m)\u001b[49m\n\u001b[1;32m     86\u001b[0m \u001b[38;5;28;01mfinally\u001b[39;00m:\n\u001b[1;32m     87\u001b[0m     \u001b[38;5;66;03m# Step out of the way so that another ErrorContext can become primary.\u001b[39;00m\n\u001b[1;32m     88\u001b[0m     \u001b[38;5;28;01mif\u001b[39;00m \u001b[38;5;28mself\u001b[39m\u001b[38;5;241m.\u001b[39mprimary() \u001b[38;5;129;01mis\u001b[39;00m \u001b[38;5;28mself\u001b[39m:\n",
      "File \u001b[0;32m~/miniconda3/envs/data_analysis/lib/python3.10/site-packages/awkward/_errors.py:95\u001b[0m, in \u001b[0;36mErrorContext.handle_exception\u001b[0;34m(self, cls, exception)\u001b[0m\n\u001b[1;32m     93\u001b[0m     \u001b[38;5;28mself\u001b[39m\u001b[38;5;241m.\u001b[39mdecorate_exception(\u001b[38;5;28mcls\u001b[39m, exception)\n\u001b[1;32m     94\u001b[0m \u001b[38;5;28;01melse\u001b[39;00m:\n\u001b[0;32m---> 95\u001b[0m     \u001b[38;5;28;01mraise\u001b[39;00m \u001b[38;5;28mself\u001b[39m\u001b[38;5;241m.\u001b[39mdecorate_exception(\u001b[38;5;28mcls\u001b[39m, exception)\n",
      "\u001b[0;31mIndexError\u001b[0m: cannot slice ListOffsetArray (of length 0) with 29\n\nThis error occurred while attempting to slice\n\n    <Array [] type='0 * var * float32'>\n\nwith\n\n    29"
     ]
    }
   ],
   "source": [
    "%matplotlib qt\n",
    "event_index = 29\n",
    "\n",
    "detector_geom = {'SK': {'height': 3620.0, 'cylinder_radius': 3368.15/2, 'PMT_radius': 25.4}, 'HK': {'height': 6575.1, 'cylinder_radius': 6480/2, 'PMT_radius': 25.4}, 'WCTE': {'height': 338.0, 'cylinder_radius': 369.6/2, 'PMT_radius': 4.0}}\n",
    "\n",
    "\n",
    "# Extract the hitx, hity, and hitz arrays\n",
    "hitx = events['hitx'].array()[event_index]\n",
    "hity = events['hity'].array()[event_index]\n",
    "hitz = events['hitz'].array()[event_index]\n",
    "\n",
    "theta = np.pi/2\n",
    "Rx = np.array([[1, 0, 0], [0, np.cos(theta), -np.sin(theta)], [0, np.sin(theta), np.cos(theta)]])\n",
    "hitR = Rx@np.array([hitx, hity, hitz])\n",
    "\n",
    "# Create a 3D plot\n",
    "fig = plt.figure()\n",
    "ax = fig.add_subplot(111, projection='3d')\n",
    "\n",
    "def compute_PMT_marker_size(PMT_radius, fig, ax) : # compute the size of PMT scatter markers in points^2 given the PMT radius in cm for a given figure and axes\n",
    "    \n",
    "    xlim = ax.get_xlim()\n",
    "    ylim = ax.get_ylim()\n",
    "\n",
    "    dpi = fig.get_dpi()\n",
    "    fig_width, fig_height = fig.get_size_inches() * dpi\n",
    "    x_points_per_data_unit = fig_width / (xlim[1] - xlim[0])\n",
    "    y_points_per_data_unit = fig_height / (ylim[1] - ylim[0])\n",
    "\n",
    "    avg_points_per_data_unit = (x_points_per_data_unit + y_points_per_data_unit) / 2\n",
    "\n",
    "    sizes_in_points2 = (PMT_radius * avg_points_per_data_unit) ** 2\n",
    "\n",
    "    return sizes_in_points2\n",
    "\n",
    "# Plot the data\n",
    "\n",
    "#ax.scatter(hitx, hity, hitz, c='r', marker='o', alpha=0.5) # original non rotated\n",
    "ax.scatter(hitR[0], hitR[1], hitR[2], c='b', marker='o', alpha=0.5) # rotated\n",
    "\n",
    "print(-detector_geom['WCTE']['height']/2 + 2)\n",
    "bottom_cap_mask = hitR[2] < -detector_geom['WCTE']['height']/2 + 50\n",
    "ax.scatter(hitR[0][bottom_cap_mask], hitR[1][bottom_cap_mask], hitR[2][bottom_cap_mask], c='r', s = compute_PMT_marker_size(detector_geom['WCTE']['PMT_radius'], fig, ax), alpha=0.5) # bottom cap\n",
    "\n",
    "# Set labels\n",
    "ax.set_xlabel(r'$x$ (cm)')\n",
    "ax.set_ylabel(r'$y$ (cm)')\n",
    "ax.set_zlabel(r'$z$ (cm)')\n",
    "\n",
    "ax.set_aspect('equal')\n",
    "\n",
    "plt.show()"
   ]
  },
  {
   "cell_type": "code",
   "execution_count": 6,
   "metadata": {},
   "outputs": [
    {
     "data": {
      "text/html": [
       "<pre>[-148,\n",
       " -121,\n",
       " 8.32,\n",
       " 9.47e-16,\n",
       " -4.16,\n",
       " 4.16,\n",
       " 0,\n",
       " -4.16,\n",
       " 58.1,\n",
       " -8.32,\n",
       " ...,\n",
       " -13.6,\n",
       " 67.2,\n",
       " -105,\n",
       " -142,\n",
       " 140,\n",
       " 148,\n",
       " 99.9,\n",
       " -103,\n",
       " 72.4]\n",
       "-------------------\n",
       "type: 624 * float32</pre>"
      ],
      "text/plain": [
       "<Array [-148, -121, 8.32, 9.47e-16, ..., 99.9, -103, 72.4] type='624 * float32'>"
      ]
     },
     "execution_count": 6,
     "metadata": {},
     "output_type": "execute_result"
    }
   ],
   "source": [
    "hitx"
   ]
  },
  {
   "cell_type": "markdown",
   "metadata": {},
   "source": []
  }
 ],
 "metadata": {
  "kernelspec": {
   "display_name": "data_analysis",
   "language": "python",
   "name": "python3"
  },
  "language_info": {
   "codemirror_mode": {
    "name": "ipython",
    "version": 3
   },
   "file_extension": ".py",
   "mimetype": "text/x-python",
   "name": "python",
   "nbconvert_exporter": "python",
   "pygments_lexer": "ipython3",
   "version": "3.10.15"
  }
 },
 "nbformat": 4,
 "nbformat_minor": 2
}
